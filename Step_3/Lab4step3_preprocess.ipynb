{
 "cells": [
  {
   "cell_type": "code",
   "execution_count": 1,
   "metadata": {
    "executionInfo": {
     "elapsed": 3417,
     "status": "ok",
     "timestamp": 1619230964270,
     "user": {
      "displayName": "Yundong Yao",
      "photoUrl": "",
      "userId": "06195199828563786474"
     },
     "user_tz": 420
    },
    "id": "A40641eXrEn5"
   },
   "outputs": [],
   "source": [
    "import numpy as np\n",
    "import torch\n",
    "import torch.nn as nn\n",
    "import torch.nn.functional as F\n",
    "import torch.optim as optim\n",
    "from torch.utils.data import Dataset, DataLoader\n",
    "from sklearn.metrics import accuracy_score\n",
    "from torch.utils.data import TensorDataset, DataLoader, RandomSampler, SequentialSampler\n",
    "from tqdm import tqdm, trange\n",
    "from sklearn.metrics import accuracy_score, f1_score, recall_score, precision_score, classification_report, confusion_matrix"
   ]
  },
  {
   "cell_type": "code",
   "execution_count": 2,
   "metadata": {
    "executionInfo": {
     "elapsed": 716,
     "status": "ok",
     "timestamp": 1619233957476,
     "user": {
      "displayName": "Yundong Yao",
      "photoUrl": "",
      "userId": "06195199828563786474"
     },
     "user_tz": 420
    },
    "id": "fuPqvmNpr6xp"
   },
   "outputs": [],
   "source": [
    "import re\n",
    "aspect_set = set()\n",
    "with open(\"../Multiwoz/WOZ_dev_ans.txt\") as f:\n",
    "  for line in f:\n",
    "    line = line.strip()\n",
    "    line_lst = line.split(\"|\")\n",
    "    for aspect in line_lst[1:]:\n",
    "      aspect_name = re.search(r\"-(\\w+)=(\\w+)\",aspect).group(1)\n",
    "      aspect_set.add(aspect_name)\n"
   ]
  },
  {
   "cell_type": "code",
   "execution_count": 3,
   "metadata": {
    "executionInfo": {
     "elapsed": 529,
     "status": "ok",
     "timestamp": 1619233415301,
     "user": {
      "displayName": "Yundong Yao",
      "photoUrl": "",
      "userId": "06195199828563786474"
     },
     "user_tz": 420
    },
    "id": "gyXUgaZVsE4S"
   },
   "outputs": [],
   "source": [
    "aspect_set.remove('name')\n",
    "aspect_set.remove('food')"
   ]
  },
  {
   "cell_type": "code",
   "execution_count": 4,
   "metadata": {
    "colab": {
     "base_uri": "https://localhost:8080/"
    },
    "executionInfo": {
     "elapsed": 589,
     "status": "ok",
     "timestamp": 1619233420576,
     "user": {
      "displayName": "Yundong Yao",
      "photoUrl": "",
      "userId": "06195199828563786474"
     },
     "user_tz": 420
    },
    "id": "YhhP2e1r1SbZ",
    "outputId": "8425a780-759a-4f4d-f1a1-78486cdc1bb7"
   },
   "outputs": [
    {
     "data": {
      "text/plain": [
       "{'area', 'internet', 'parking', 'pricerange', 'stars', 'type'}"
      ]
     },
     "execution_count": 4,
     "metadata": {},
     "output_type": "execute_result"
    }
   ],
   "source": [
    "aspect_set"
   ]
  },
  {
   "cell_type": "code",
   "execution_count": 7,
   "metadata": {
    "executionInfo": {
     "elapsed": 710,
     "status": "ok",
     "timestamp": 1619231695594,
     "user": {
      "displayName": "Yundong Yao",
      "photoUrl": "",
      "userId": "06195199828563786474"
     },
     "user_tz": 420
    },
    "id": "8vOAmVHhurgu"
   },
   "outputs": [],
   "source": [
    "aspect_path = \"./data/aspect/\""
   ]
  },
  {
   "cell_type": "code",
   "execution_count": 12,
   "metadata": {
    "executionInfo": {
     "elapsed": 633,
     "status": "ok",
     "timestamp": 1619233452103,
     "user": {
      "displayName": "Yundong Yao",
      "photoUrl": "",
      "userId": "06195199828563786474"
     },
     "user_tz": 420
    },
    "id": "6HGkCc2ftyZf"
   },
   "outputs": [],
   "source": [
    "from collections import defaultdict\n",
    "aspect_dict = defaultdict(set)\n",
    "for aspect in list(aspect_set):\n",
    "  with open(aspect_path + aspect + \"_train.tsv\", \"w\") as fout:\n",
    "    with open(\"../Multiwoz/WOZ_train_ans.txt\") as f_ans:\n",
    "      with open(\"../Multiwoz/WOZ_train_utt.txt\") as f_utt:\n",
    "        fout.write(\"content\\tlabel\\n\")\n",
    "        for line_ans, line_utt in zip(f_ans, f_utt):\n",
    "          line_ans = line_ans.strip()\n",
    "          line_utt = line_utt.strip()\n",
    "          line_lst = line_ans.split(\"|\")\n",
    "          label = \"None\"\n",
    "          for aspect_item in line_lst[1:]:\n",
    "            match = re.search(r\"-(\\w+)=(\\w+)\",aspect_item)\n",
    "            if match and match.group(1) == aspect:\n",
    "              label = match.group(2)\n",
    "              aspect_dict[aspect].add(label)\n",
    "          fout.write(line_utt + \"\\t\" + label + \"\\n\")\n"
   ]
  },
  {
   "cell_type": "code",
   "execution_count": 11,
   "metadata": {
    "executionInfo": {
     "elapsed": 591,
     "status": "ok",
     "timestamp": 1619233454171,
     "user": {
      "displayName": "Yundong Yao",
      "photoUrl": "",
      "userId": "06195199828563786474"
     },
     "user_tz": 420
    },
    "id": "XCCzqhYNxY8C"
   },
   "outputs": [],
   "source": [
    "for aspect in list(aspect_set):\n",
    "  with open(aspect_path + aspect + \"_dev.tsv\", \"w\") as fout:\n",
    "    with open(\"../Multiwoz/WOZ_dev_ans.txt\") as f_ans:\n",
    "      with open(\"../Multiwoz/WOZ_dev_utt.txt\") as f_utt:\n",
    "        fout.write(\"content\\tlabel\\n\")\n",
    "        for line_ans, line_utt in zip(f_ans, f_utt):\n",
    "          line_ans = line_ans.strip()\n",
    "          line_utt = line_utt.strip()\n",
    "          line_lst = line_ans.split(\"|\")\n",
    "          label = \"None\"\n",
    "          for aspect_item in line_lst[1:]:\n",
    "            match = re.search(r\"-(\\w+)=(\\w+)\",aspect_item)\n",
    "            if match and match.group(1) == aspect:\n",
    "              label = match.group(2)\n",
    "          fout.write(line_utt + \"\\t\" + label + \"\\n\")"
   ]
  },
  {
   "cell_type": "code",
   "execution_count": 10,
   "metadata": {
    "colab": {
     "base_uri": "https://localhost:8080/"
    },
    "executionInfo": {
     "elapsed": 689,
     "status": "ok",
     "timestamp": 1619233455943,
     "user": {
      "displayName": "Yundong Yao",
      "photoUrl": "",
      "userId": "06195199828563786474"
     },
     "user_tz": 420
    },
    "id": "spCKYcPf06Ry",
    "outputId": "541a963f-b372-4d2a-d556-824658f474d4"
   },
   "outputs": [
    {
     "data": {
      "text/plain": [
       "defaultdict(set,\n",
       "            {'internet': {'dontcare', 'no', 'yes'},\n",
       "             'parking': {'dontcare', 'no', 'yes'},\n",
       "             'pricerange': {'cheap', 'dontcare', 'expensive', 'moderate'},\n",
       "             'area': {'centre', 'dontcare', 'east', 'north', 'south', 'west'},\n",
       "             'type': {'dontcare', 'guesthouse', 'hotel'},\n",
       "             'stars': {'0', '1', '2', '3', '4', '5', 'dontcare'}})"
      ]
     },
     "execution_count": 10,
     "metadata": {},
     "output_type": "execute_result"
    }
   ],
   "source": [
    "aspect_dict"
   ]
  },
  {
   "cell_type": "code",
   "execution_count": null,
   "metadata": {},
   "outputs": [],
   "source": []
  }
 ],
 "metadata": {
  "accelerator": "GPU",
  "colab": {
   "authorship_tag": "ABX9TyP2GdaxWBFW4zT95HFv4KjG",
   "mount_file_id": "141v-inNJl9W_5gVf6yvgQ4V5xkjAxmIW",
   "name": "563_lab4_step3_preprocess.ipynb",
   "provenance": []
  },
  "kernelspec": {
   "display_name": "Python 3",
   "language": "python",
   "name": "python3"
  },
  "language_info": {
   "codemirror_mode": {
    "name": "ipython",
    "version": 3
   },
   "file_extension": ".py",
   "mimetype": "text/x-python",
   "name": "python",
   "nbconvert_exporter": "python",
   "pygments_lexer": "ipython3",
   "version": "3.8.3"
  }
 },
 "nbformat": 4,
 "nbformat_minor": 4
}
