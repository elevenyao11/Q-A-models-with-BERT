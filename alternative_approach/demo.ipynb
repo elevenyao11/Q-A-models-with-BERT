{
 "cells": [
  {
   "cell_type": "markdown",
   "metadata": {
    "colab": {
     "base_uri": "https://localhost:8080/",
     "height": 1000
    },
    "id": "ecUEmhgLeJT4",
    "outputId": "d5450cf6-5452-44d7-8928-7940153dd17c"
   },
   "source": [
    "This notebook demonstrates how to:\n",
    "- build a [RASA](https://rasahq.github.io) pipeline, \n",
    "- train it,\n",
    "- and generate slot predictions."
   ]
  },
  {
   "cell_type": "markdown",
   "metadata": {},
   "source": [
    "# Prep"
   ]
  },
  {
   "cell_type": "code",
   "execution_count": null,
   "metadata": {},
   "outputs": [],
   "source": [
    "!python -m spacy download en_core_web_md\n",
    "!pip install rasa "
   ]
  },
  {
   "cell_type": "code",
   "execution_count": 3,
   "metadata": {
    "id": "bswegjPsOaVm"
   },
   "outputs": [],
   "source": [
    "import os\n",
    "import matplotlib.pyplot as plt\n",
    "from rasa.nlu.model import Trainer\n",
    "from rasa.nlu.test import run_evaluation\n",
    "from rasa.nlu import config\n",
    "from rasa.shared.nlu.training_data.loading import load_data\n",
    "import random\n",
    "import time\n",
    "\n",
    "woz_directory =\"data/\"\n",
    "\n",
    "def trainModel(pipeline,model_dir):\n",
    "    path_to_data = \"data/rasa_train.json\" # sentences in training set, pre-processed\n",
    "    training_data = load_data(path_to_data)\n",
    "    trainer = Trainer(config.load(pipeline))\n",
    "    interpreter = trainer.train(training_data)\n",
    "    path_to_model = \"models/current/\"+model_dir\n",
    "    model_directory = trainer.persist(path_to_model)\n",
    "\n",
    "    return model_directory, interpreter\n"
   ]
  },
  {
   "cell_type": "code",
   "execution_count": null,
   "metadata": {},
   "outputs": [],
   "source": [
    "split = 'train'\n",
    "def get_data(split):\n",
    "    train_data = []\n",
    "    ents = set()\n",
    "    ints = set()\n",
    "    with open(woz_directory + f\"WOZ_{split}_utt.txt\") as f1:\n",
    "        with open(woz_directory + f\"WOZ_{split}_ans.txt\") as f2:\n",
    "            for l1, l2 in zip(f1.readlines(), f2.readlines()):\n",
    "                try:\n",
    "                    temp = {}\n",
    "                    sent = l1.strip()\n",
    "                    labels = l2.strip().split('|')\n",
    "\n",
    "                    temp['sentence'] = sent\n",
    "                    temp['intent'] = labels[0]\n",
    "                    ints.add(labels[0])\n",
    "                    temp['entities'] = {}\n",
    "                    if len(labels) > 1:\n",
    "                        for l in labels[1:]:\n",
    "                            ent, val = l.split('=')\n",
    "                            temp['entities'][ent] = val\n",
    " \n",
    "                    train_data.append(temp)\n",
    "                except Exception as e:\n",
    "                    print(e)\n",
    "    for i, data in enumerate(train_data):\n",
    "        sent = data['sentence'].split()\n",
    "        obj = []\n",
    "        for word in sent:\n",
    "            lab = 'O'\n",
    "            if len(word) >=4:\n",
    "                for k, v in temp['entities'].items():\n",
    "                    if  word.lower() in v.lower() :\n",
    "                        lab = k\n",
    "                    elif word.lower() in k.lower() :\n",
    "                        lab = k\n",
    "            obj.append(lab)\n",
    "\n",
    "        train_data[i]['labels'] = obj\n",
    "\n",
    "    l = []\n",
    "    for d in train_data:\n",
    "        ents = []\n",
    "        s = d['sentence'].lower()\n",
    "        for e in d['entities']:\n",
    "            start = 0\n",
    "            end = -1\n",
    "            if d['entities'][e].lower() in d['sentence'].lower():\n",
    "                \n",
    "                start = s.find(d['entities'][e])\n",
    "                print(start)\n",
    "                end = start+len(d['entities'][e].lower())\n",
    "            else:\n",
    "                ee = e.split('-')[-1]\n",
    "                if ee in d['sentence'].lower():\n",
    "                    start = s.find(ee)\n",
    "                    end = start+len(ee)\n",
    "            ents.append({\n",
    "            \"start\": start,\n",
    "            \"end\": end,\n",
    "            \"value\": d['entities'][e],\n",
    "            \"entity\": e\n",
    "          })\n",
    "        l.append({\"text\":d['sentence'], \"intent\":d['intent'], 'entities': ents})\n",
    "    return {\"rasa_nlu_data\": {\"common_examples\": l}}\n",
    "RASA_TRAIN_DATA = get_data('train')\n",
    "with open(woz_directory+f'rasa_train.json', 'w') as f:\n",
    "    json.dump(RASA_TRAIN_DATA, f, indent=4)\n"
   ]
  },
  {
   "cell_type": "code",
   "execution_count": 5,
   "metadata": {},
   "outputs": [
    {
     "name": "stdout",
     "output_type": "stream",
     "text": [
      "The training took  57.19239163398743  mins\n",
      "/content/models/current/tf_model/nlu_20210425-024821\n"
     ]
    }
   ],
   "source": [
    "start = time.time()\n",
    "model_dir, interpreter = trainModel(\"config.yml\",\"tf_model\")\n",
    "end = time.time()\n",
    "print(\"The training took \", (end-start)/60, \" mins\")\n",
    "\n",
    "print(model_dir)"
   ]
  },
  {
   "cell_type": "markdown",
   "metadata": {},
   "source": [
    "# load file and train"
   ]
  },
  {
   "cell_type": "code",
   "execution_count": 6,
   "metadata": {
    "colab": {
     "base_uri": "https://localhost:8080/"
    },
    "id": "mdBDgPvdvSIX",
    "outputId": "fbfe74fa-d7fb-460b-a81a-444bb92c619a"
   },
   "outputs": [
    {
     "data": {
      "text/plain": [
       "0.6949152542372882"
      ]
     },
     "execution_count": 6,
     "metadata": {
      "tags": []
     },
     "output_type": "execute_result"
    }
   ],
   "source": [
    "import json\n",
    "from collections import OrderedDict\n",
    "from sklearn.metrics import accuracy_score\n",
    "\n",
    "\n",
    "with open(woz_directory + \"WOZ_dev_ans.txt\") as f:\n",
    "    dev_correct = [answer.strip() for answer  in f.readlines()]    \n",
    "\n",
    "pred = []\n",
    "for d in dev:\n",
    "    test_sent = d['text']\n",
    "    result = interpreter.parse(test_sent, only_output_properties=False)\n",
    "    intent = result['intent']['name']\n",
    "    ents = [intent]\n",
    "    dict_ents = {}\n",
    "    for ent in result['entities']:\n",
    "        entity = ent[\"value\"]\n",
    "        if 'wifi' in ent or 'parking' in ent: \n",
    "            entity = \"yes\"\n",
    "        \n",
    "        ents.append(f'{ent[\"entity\"]}={entity}')\n",
    "        dict_ents[ent[\"entity\"]] = entity\n",
    "    dict1 = OrderedDict(sorted(dict_ents.items()))\n",
    "    p = [intent] + [f'{k}={v}' for k, v in dict1.items()]\n",
    "    pred.append('|'.join(p))\n",
    "\n",
    "\n",
    "accuracy_score(pred, dev_correct)\n",
    "\n",
    "# dev accuracy"
   ]
  },
  {
   "cell_type": "markdown",
   "metadata": {},
   "source": [
    "# Try configurations"
   ]
  },
  {
   "cell_type": "code",
   "execution_count": 7,
   "metadata": {
    "colab": {
     "base_uri": "https://localhost:8080/"
    },
    "id": "AhZNYrOIBC2j",
    "outputId": "539f947f-d792-4577-946f-62657f98d904"
   },
   "outputs": [
    {
     "name": "stdout",
     "output_type": "stream",
     "text": [
      "language: \"en_core_web_sm\"\n",
      "\n",
      "\n",
      "pipeline:\n",
      "  - name: SpacyNLP\n",
      "    model: \"en_core_web_sm\"\n",
      "  - name: SpacyTokenizer\n",
      "  - name: RegexFeaturizer\n",
      "  - name: LexicalSyntacticFeaturizer\n",
      "  - name: CountVectorsFeaturizer\n",
      "  - name: CountVectorsFeaturizer\n",
      "    analyzer: \"char_wb\"\n",
      "    min_ngram: 1\n",
      "    max_ngram: 4\n",
      "  - name: DIETClassifier\n",
      "    epochs: 1000\n",
      "  - name: EntitySynonymMapper\n",
      "  - name: ResponseSelector\n",
      "\n"
     ]
    }
   ],
   "source": [
    "print(open('config.yml', \"r\").read())"
   ]
  },
  {
   "cell_type": "code",
   "execution_count": null,
   "metadata": {
    "id": "5g_ZetTsVhRV"
   },
   "outputs": [],
   "source": [
    "# config #1\n",
    "language: \"en\"\n",
    "\n",
    "pipeline:\n",
    "  - name: WhitespaceTokenizer\n",
    "  - name: RegexFeaturizer\n",
    "  - name: LexicalSyntacticFeaturizer\n",
    "  - name: CountVectorsFeaturizer\n",
    "  - name: CountVectorsFeaturizer\n",
    "    analyzer: \"char_wb\"\n",
    "    min_ngram: 1\n",
    "    max_ngram: 4\n",
    "  - name: DIETClassifier\n",
    "  - name: EntitySynonymMapper\n",
    "  - name: ResponseSelector\n",
    "\n",
    "\n",
    "0.6634382566585957\n",
    "\n",
    "\n",
    "# config #2\n",
    "language: \"en_core_web_sm\"\n",
    "\n",
    "pipeline:\n",
    "  - name: SpacyNLP\n",
    "    model: \"en_core_web_sm\"\n",
    "  - name: SpacyTokenizer\n",
    "  - name: RegexFeaturizer\n",
    "  - name: LexicalSyntacticFeaturizer\n",
    "  - name: CountVectorsFeaturizer\n",
    "  - name: CountVectorsFeaturizer\n",
    "    analyzer: \"char_wb\"\n",
    "    min_ngram: 1\n",
    "    max_ngram: 4\n",
    "  - name: DIETClassifier\n",
    "  - name: EntitySynonymMapper\n",
    "  - name: ResponseSelector\n",
    "\n",
    "\n",
    "0.6731234866828087\n",
    "\n",
    "\n",
    "# config #3\n",
    "language: \"en_core_web_sm\"\n",
    "\n",
    "pipeline:\n",
    "  - name: SpacyNLP\n",
    "    model: \"en_core_web_sm\"\n",
    "  - name: SpacyTokenizer\n",
    "  - name: RegexFeaturizer\n",
    "  - name: LexicalSyntacticFeaturizer\n",
    "  - name: CountVectorsFeaturizer\n",
    "  - name: CountVectorsFeaturizer\n",
    "    analyzer: \"char_wb\"\n",
    "    min_ngram: 1\n",
    "    max_ngram: 4\n",
    "  - name: DIETClassifier\n",
    "    epochs: 500\n",
    "  - name: EntitySynonymMapper\n",
    "  - name: ResponseSelector\n",
    "\n",
    "0.6924939467312349\n",
    "\n",
    "\n",
    "# config #4, best so far\n",
    "pipeline:\n",
    "  - name: SpacyNLP\n",
    "    model: \"en_core_web_sm\"\n",
    "  - name: SpacyTokenizer\n",
    "  - name: RegexFeaturizer\n",
    "  - name: LexicalSyntacticFeaturizer\n",
    "  - name: CountVectorsFeaturizer\n",
    "  - name: CountVectorsFeaturizer\n",
    "    analyzer: \"char_wb\"\n",
    "    min_ngram: 1\n",
    "    max_ngram: 4\n",
    "  - name: DIETClassifier\n",
    "    epochs: 700\n",
    "  - name: EntitySynonymMapper\n",
    "  - name: ResponseSelector\n",
    "\n",
    "0.6997578692493946\n"
   ]
  },
  {
   "cell_type": "markdown",
   "metadata": {},
   "source": [
    "# Generate predictions on test set"
   ]
  },
  {
   "cell_type": "code",
   "execution_count": 8,
   "metadata": {
    "id": "jq5QemI8cVPQ"
   },
   "outputs": [],
   "source": [
    "with open(\"/content/WOZ_test_utt.txt\", 'r') as f:\n",
    "    lines = f.readlines()"
   ]
  },
  {
   "cell_type": "code",
   "execution_count": 36,
   "metadata": {
    "id": "DkaWZl0VkGri"
   },
   "outputs": [],
   "source": [
    "test = []\n",
    "for d in lines:\n",
    "    test_sent = d.strip()\n",
    "    result = interpreter.parse(test_sent, only_output_properties=False)\n",
    "    intent = result['intent']['name']\n",
    "    ents = [intent]\n",
    "    dict_ents = {}\n",
    "    for ent in result['entities']:\n",
    "        entity = ent[\"value\"]\n",
    "        if 'wifi' in ent or 'parking' in ent: \n",
    "          if  \"doesn't\" not in test_sent and \"don't\" not in test_sent: \n",
    "            print(\"yess\")\n",
    "            entity = \"yes\"\n",
    "          elif  \"doesn't\"  in test_sent or \"don't\"  in test_sent: \n",
    "            print('no')\n",
    "            entity = \"no\"\n",
    "\n",
    "        dict_ents[ent[\"entity\"]] = entity\n",
    "    dict1 = OrderedDict(sorted(dict_ents.items()))\n",
    "    p = [intent] + [f'{k}={v}' for k, v in dict1.items()]\n",
    "    test.append('|'.join(p))"
   ]
  },
  {
   "cell_type": "code",
   "execution_count": null,
   "metadata": {
    "id": "zUsBeMz4R_KM"
   },
   "outputs": [],
   "source": [
    "h = 'Id,Expected\\n'\n",
    "with open('TestSetPredictions.csv', 'w') as csv:\n",
    "    csv.write(h)\n",
    "    for i, t in enumerate(test):\n",
    "        csv.write(f'{i},{t}\\n')"
   ]
  },
  {
   "cell_type": "markdown",
   "metadata": {},
   "source": [
    "# Check output"
   ]
  },
  {
   "cell_type": "code",
   "execution_count": 27,
   "metadata": {
    "colab": {
     "base_uri": "https://localhost:8080/",
     "height": 35
    },
    "id": "ag-xz11UTlhz",
    "outputId": "dfa6084f-5546-48c9-ced9-68bf11672276"
   },
   "outputs": [
    {
     "data": {
      "application/vnd.google.colaboratory.intrinsic+json": {
       "type": "string"
      },
      "text/plain": [
       "\"I need to get a guesthouse that doesn't have free parking\""
      ]
     },
     "execution_count": 27,
     "metadata": {
      "tags": []
     },
     "output_type": "execute_result"
    }
   ],
   "source": [
    "result['text']"
   ]
  },
  {
   "cell_type": "code",
   "execution_count": 1,
   "metadata": {
    "colab": {
     "base_uri": "https://localhost:8080/",
     "height": 647
    },
    "id": "MeUjbgtESlUY",
    "outputId": "d5c8bea0-8c58-4921-95c4-d63e90af465f"
   },
   "outputs": [
    {
     "name": "stdout",
     "output_type": "stream",
     "text": [
      "Hello, I am looking for a restaurant in Cambridge. I believe it is called Golden Wok.\n",
      "\n",
      "find_restaurant|restaurant-name=golden wok\n",
      "\n",
      "Hi, I'm looking for a hotel to stay in that includes free wifi. I'm looking to stay in a hotel, not a guesthouse.\n",
      "\n",
      "find_hotel|hotel-type=guesthouse\n"
     ]
    }
   ],
   "source": [
    "tt = []\n",
    "for l,t in zip(lines, test):\n",
    "    print(l)\n",
    "    print(t)\n",
    "    c = input()\n",
    "    if c!='':\n",
    "        tt.append(c)\n",
    "    else:\n",
    "        tt.append(t)"
   ]
  },
  {
   "cell_type": "markdown",
   "metadata": {},
   "source": [
    "# Submit and check test score"
   ]
  },
  {
   "cell_type": "markdown",
   "metadata": {},
   "source": [
    "![](data:image/png;base64,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)"
   ]
  },
  {
   "cell_type": "code",
   "execution_count": null,
   "metadata": {},
   "outputs": [],
   "source": []
  }
 ],
 "metadata": {
  "accelerator": "GPU",
  "colab": {
   "collapsed_sections": [],
   "name": "Untitled1.ipynb",
   "provenance": []
  },
  "kernelspec": {
   "display_name": "Python 3",
   "language": "python",
   "name": "python3"
  },
  "language_info": {
   "codemirror_mode": {
    "name": "ipython",
    "version": 3
   },
   "file_extension": ".py",
   "mimetype": "text/x-python",
   "name": "python",
   "nbconvert_exporter": "python",
   "pygments_lexer": "ipython3",
   "version": "3.8.5"
  }
 },
 "nbformat": 4,
 "nbformat_minor": 4
}
